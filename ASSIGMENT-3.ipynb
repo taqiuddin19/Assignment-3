{
 "cells": [
  {
   "cell_type": "markdown",
   "metadata": {},
   "source": [
    "Question - 1:Create a numpy array starting from 2 till 50 with a stepsize of 3"
   ]
  },
  {
   "cell_type": "code",
   "execution_count": 15,
   "metadata": {},
   "outputs": [
    {
     "name": "stdout",
     "output_type": "stream",
     "text": [
      "[ 2  5  8 11 14 17 20 23 26 29 32 35 38 41 44 47]\n"
     ]
    }
   ],
   "source": [
    "import numpy as np\n",
    "arr=np.arange(2,50,3)\n",
    "print(arr)"
   ]
  },
  {
   "cell_type": "markdown",
   "metadata": {},
   "source": [
    "Question - 2\n",
    "Accept two lists of 5 elements each from the user. Convert them to numpy arrays. Concatenate these arrays and print it. Also sort these arrays and print it."
   ]
  },
  {
   "cell_type": "code",
   "execution_count": 10,
   "metadata": {},
   "outputs": [
    {
     "name": "stdout",
     "output_type": "stream",
     "text": [
      "Enter the values for list1:8\n",
      "Enter the values for list1:9\n",
      "Enter the values for list1:5\n",
      "Enter the values for list1:2\n",
      "Enter the values for list1:3\n",
      "Enter the values for list2:7\n",
      "Enter the values for list2:4\n",
      "Enter the values for list2:6\n",
      "Enter the values for list2:1\n",
      "Enter the values for list2:10\n",
      "\n",
      "concatenated array : [ 8  9  5  2  3  7  4  6  1 10]\n",
      "\n",
      "Sorted array : [ 1  2  3  4  5  6  7  8  9 10]\n"
     ]
    }
   ],
   "source": [
    "lst1=np.array([int(input(\"\\nEnter the values for list1:\")) for i in range(5)])\n",
    "lst2=np.array([int(input(\"\\nEnter the values for list2:\")) for i in range(5)])\n",
    "\n",
    "arr1=np.array(lst1)\n",
    "arr2=np.array(lst2)\n",
    "\n",
    "arr=np.concatenate((arr1,arr2))\n",
    "print(\"\\nconcatenated array :\",arr)\n",
    "\n",
    "sortarr = np.sort(arr)\n",
    "print(\"\\nSorted array :\",sortarr)"
   ]
  },
  {
   "cell_type": "markdown",
   "metadata": {},
   "source": [
    "Question - 3:\n",
    "Write a code snippet to find the dimensions of a ndarray and its size"
   ]
  },
  {
   "cell_type": "code",
   "execution_count": 11,
   "metadata": {},
   "outputs": [
    {
     "name": "stdout",
     "output_type": "stream",
     "text": [
      "\n",
      "Array Dimensions :  1\n",
      "\n",
      "Array Size :  6\n"
     ]
    }
   ],
   "source": [
    "arr = np.array([1,2,3,4,5,6])\n",
    "\n",
    "print(\"\\nArray Dimensions : \", arr.ndim)\n",
    " \n",
    "print(\"\\nArray Size : \", arr.size)"
   ]
  },
  {
   "cell_type": "markdown",
   "metadata": {},
   "source": [
    "Question - 4:\n",
    "How to convert a 1D array into a 2D array? Demonstrate with the help of a code snippet\n",
    "Hint: np.newaxis, np.expand_dims"
   ]
  },
  {
   "cell_type": "code",
   "execution_count": 13,
   "metadata": {},
   "outputs": [
    {
     "name": "stdout",
     "output_type": "stream",
     "text": [
      "\n",
      "Array shape: (6,)\n",
      "\n",
      "Shape of 2d Array in row major : (1, 6)\n",
      "\n",
      "Shape of 2d Array in column major : (6, 1)\n"
     ]
    }
   ],
   "source": [
    "# newaxis snippet:\n",
    "\n",
    "\n",
    "arr = np.arange(6)\n",
    "print(\"\\nArray shape:\",arr.shape)\n",
    "\n",
    "row_arr = arr[np.newaxis, :]\n",
    "print(\"\\nShape of 2d Array in row major :\",row_arr.shape)\n",
    "\n",
    "col_arr = arr[:, np.newaxis]\n",
    "print(\"\\nShape of 2d Array in column major :\",col_arr.shape)"
   ]
  },
  {
   "cell_type": "code",
   "execution_count": 14,
   "metadata": {},
   "outputs": [
    {
     "name": "stdout",
     "output_type": "stream",
     "text": [
      "\n",
      "Array shape: (6,)\n",
      "\n",
      "Shape of 2d Array in row major : (1, 6)\n",
      "\n",
      "Shape of 2d Array in column major : (6, 1)\n"
     ]
    }
   ],
   "source": [
    "#expand_dims snippet:\n",
    "\n",
    "\n",
    "arr = np.arange(6)\n",
    "print(\"\\nArray shape:\",arr.shape)\n",
    "row_arr = np.expand_dims(arr, axis=0)\n",
    "print(\"\\nShape of 2d Array in row major :\",row_arr.shape)\n",
    "col_arr = np.expand_dims(arr, axis=1)\n",
    "print(\"\\nShape of 2d Array in column major :\",col_arr.shape)"
   ]
  },
  {
   "cell_type": "markdown",
   "metadata": {},
   "source": [
    "Question - 5:\n",
    "Consider two square numpy arrays. Stack them vertically and horizontally.\n",
    "Hint: Use vstack(), hstack()"
   ]
  },
  {
   "cell_type": "code",
   "execution_count": 19,
   "metadata": {},
   "outputs": [
    {
     "name": "stdout",
     "output_type": "stream",
     "text": [
      "\n",
      "Vertical Stack: [[  1   4   9  16  25]\n",
      " [ 36  49  64  81 100]]\n",
      "\n",
      "Horizontal Stack : [  1   4   9  16  25  36  49  64  81 100]\n"
     ]
    }
   ],
   "source": [
    "\n",
    "arr_1 = np.square([1, 2, 3, 4, 5])\n",
    "arr_2 = np.square([6, 7, 8, 9, 10])\n",
    "\n",
    "print(\"\\nVertical Stack:\", np.vstack((arr_1, arr_2)))\n",
    "print(\"\\nHorizontal Stack :\", np.hstack((arr_1, arr_2)))"
   ]
  },
  {
   "cell_type": "markdown",
   "metadata": {},
   "source": [
    "Questions 6:\n",
    "How to get unique items and counts of unique items?"
   ]
  },
  {
   "cell_type": "code",
   "execution_count": 20,
   "metadata": {},
   "outputs": [
    {
     "name": "stdout",
     "output_type": "stream",
     "text": [
      "(array([1, 2, 3, 4, 5, 6, 7]), array([1, 1, 1, 1, 1, 1, 1], dtype=int64))\n"
     ]
    }
   ],
   "source": [
    "a=np.arange(1,8)\n",
    "print(np.unique(a,return_counts=True))"
   ]
  },
  {
   "cell_type": "code",
   "execution_count": null,
   "metadata": {},
   "outputs": [],
   "source": []
  }
 ],
 "metadata": {
  "kernelspec": {
   "display_name": "Python 3",
   "language": "python",
   "name": "python3"
  },
  "language_info": {
   "codemirror_mode": {
    "name": "ipython",
    "version": 3
   },
   "file_extension": ".py",
   "mimetype": "text/x-python",
   "name": "python",
   "nbconvert_exporter": "python",
   "pygments_lexer": "ipython3",
   "version": "3.8.3"
  }
 },
 "nbformat": 4,
 "nbformat_minor": 4
}
